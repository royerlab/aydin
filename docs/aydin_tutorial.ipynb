{
  "nbformat": 4,
  "nbformat_minor": 0,
  "metadata": {
    "colab": {
      "name": "aydin_tutorial.ipynb",
      "provenance": []
    },
    "kernelspec": {
      "name": "python3",
      "display_name": "Python 3"
    },
    "language_info": {
      "name": "python"
    }
  },
  "cells": [
    {
      "cell_type": "markdown",
      "metadata": {
        "id": "3K4myrntQRld"
      },
      "source": [
        "Welcome to the Aydin tutorial!\n",
        "\n",
        "Aydin is versatile and performant image restoration software.\n"
      ]
    },
    {
      "cell_type": "markdown",
      "metadata": {
        "id": "u1FRjhZPQpCX"
      },
      "source": [
        "# Install Aydin and Dependencies"
      ]
    },
    {
      "cell_type": "code",
      "metadata": {
        "id": "cdVRjqD7SE7z"
      },
      "source": [
        "!pip install aydin"
      ],
      "execution_count": null,
      "outputs": []
    },
    {
      "cell_type": "markdown",
      "metadata": {
        "id": "FNkrSgg2Qgq1"
      },
      "source": [
        "# Load your images"
      ]
    },
    {
      "cell_type": "code",
      "metadata": {
        "id": "hEdekygDQdZy"
      },
      "source": [
        "from aydin.io import imread\n",
        "\n",
        "image, metadata = imread(\"/path/to/your/image\")"
      ],
      "execution_count": null,
      "outputs": []
    },
    {
      "cell_type": "markdown",
      "metadata": {
        "id": "mOBtshCQSH9M"
      },
      "source": [
        "# Denoise\n",
        "\n",
        "Denoising is the main type of image restoration Aydin targets to provide at its best."
      ]
    },
    {
      "cell_type": "code",
      "metadata": {
        "id": "Lf5MVPL6UPCF"
      },
      "source": [
        "from aydin.restoration.denoise.n2s import noise2self\n",
        "\n",
        "denoised = noise2self(image)\n"
      ],
      "execution_count": null,
      "outputs": []
    },
    {
      "cell_type": "markdown",
      "metadata": {
        "id": "MyIc7IymUUk6"
      },
      "source": [
        "# Deconvolve"
      ]
    },
    {
      "cell_type": "code",
      "metadata": {
        "id": "veCVxVQXUXSx"
      },
      "source": [
        "from aydin.restoration.deconvolve.lr import lucyrichardson\n",
        "\n",
        "deconvolved = lucyrichardson(denoised)"
      ],
      "execution_count": null,
      "outputs": []
    }
  ]
}